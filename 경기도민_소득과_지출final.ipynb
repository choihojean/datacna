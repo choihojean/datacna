{
  "cells": [
    {
      "cell_type": "code",
      "execution_count": 3,
      "metadata": {
        "id": "QDmAOs4MJ5Qg"
      },
      "outputs": [],
      "source": [
        "import pandas as pd\n",
        "import matplotlib.pyplot as plt\n",
        "import seaborn as sns"
      ]
    },
    {
      "cell_type": "markdown",
      "metadata": {
        "id": "HzrPsSNgUHuR"
      },
      "source": [
        "202184061 최호진\n",
        "202184035\t유시연\n",
        "\n",
        "주제 : 경기도민 삶의 질 조사(가구 소득에 따른 지출 정도)\n",
        "\n",
        "분석 목적 : 소득에 따른 지출이 얼마나 차이가 나는지 궁금했다.\n",
        "\n",
        "아직 팀원과의 협업이 없어서 교수님께서 올려주신 경기도민 삶의 질 데이터를 이용했고 그 일부를 주제로 선정하였습니다."
      ]
    },
    {
      "cell_type": "code",
      "execution_count": 4,
      "metadata": {
        "id": "WdpkQf6kPuSq"
      },
      "outputs": [],
      "source": [
        "data_path = \"C:/datacnacode/2020 경기도민 삶의 질 조사 데이터.xlsx\"\n",
        "codebook_path = \"C:/datacnacode/2020 경기도민 삶의 질 조사 데이터 코드북.xlsx\""
      ]
    },
    {
      "cell_type": "code",
      "execution_count": 5,
      "metadata": {
        "id": "2I9hrKczQBy-"
      },
      "outputs": [],
      "source": [
        "df = pd.read_excel(data_path)"
      ]
    },
    {
      "cell_type": "code",
      "execution_count": 6,
      "metadata": {
        "id": "2ZKgcHMRQX1M"
      },
      "outputs": [],
      "source": [
        "codebook_df = pd.read_excel(codebook_path)"
      ]
    },
    {
      "cell_type": "code",
      "execution_count": 7,
      "metadata": {
        "colab": {
          "base_uri": "https://localhost:8080/",
          "height": 236
        },
        "id": "NNS49AA-QdKX",
        "outputId": "6c488bc9-4f64-454b-f1fd-15a3978f8581"
      },
      "outputs": [
        {
          "data": {
            "text/html": [
              "<div>\n",
              "<style scoped>\n",
              "    .dataframe tbody tr th:only-of-type {\n",
              "        vertical-align: middle;\n",
              "    }\n",
              "\n",
              "    .dataframe tbody tr th {\n",
              "        vertical-align: top;\n",
              "    }\n",
              "\n",
              "    .dataframe thead th {\n",
              "        text-align: right;\n",
              "    }\n",
              "</style>\n",
              "<table border=\"1\" class=\"dataframe\">\n",
              "  <thead>\n",
              "    <tr style=\"text-align: right;\">\n",
              "      <th></th>\n",
              "      <th>PID</th>\n",
              "      <th>HID</th>\n",
              "      <th>DQ1</th>\n",
              "      <th>DQ2</th>\n",
              "      <th>DQ3</th>\n",
              "      <th>DQ4</th>\n",
              "      <th>DQ5</th>\n",
              "      <th>DQ6</th>\n",
              "      <th>DQ7</th>\n",
              "      <th>DQ8</th>\n",
              "      <th>...</th>\n",
              "      <th>DQ15_8</th>\n",
              "      <th>DQ16_1</th>\n",
              "      <th>DQ16_2</th>\n",
              "      <th>DQ16_3</th>\n",
              "      <th>DQ16_4</th>\n",
              "      <th>DQ16_5</th>\n",
              "      <th>DQ16_6</th>\n",
              "      <th>DQ16_7</th>\n",
              "      <th>DQ16_8</th>\n",
              "      <th>HSWT</th>\n",
              "    </tr>\n",
              "  </thead>\n",
              "  <tbody>\n",
              "    <tr>\n",
              "      <th>0</th>\n",
              "      <td>12</td>\n",
              "      <td>1</td>\n",
              "      <td>1</td>\n",
              "      <td>5</td>\n",
              "      <td>3</td>\n",
              "      <td>3</td>\n",
              "      <td>3</td>\n",
              "      <td>3</td>\n",
              "      <td>2</td>\n",
              "      <td>2</td>\n",
              "      <td>...</td>\n",
              "      <td>NaN</td>\n",
              "      <td>5</td>\n",
              "      <td>5.0</td>\n",
              "      <td>5.0</td>\n",
              "      <td>NaN</td>\n",
              "      <td>NaN</td>\n",
              "      <td>NaN</td>\n",
              "      <td>NaN</td>\n",
              "      <td>NaN</td>\n",
              "      <td>0.547950</td>\n",
              "    </tr>\n",
              "    <tr>\n",
              "      <th>1</th>\n",
              "      <td>22</td>\n",
              "      <td>2</td>\n",
              "      <td>1</td>\n",
              "      <td>5</td>\n",
              "      <td>3</td>\n",
              "      <td>2</td>\n",
              "      <td>2</td>\n",
              "      <td>2</td>\n",
              "      <td>2</td>\n",
              "      <td>2</td>\n",
              "      <td>...</td>\n",
              "      <td>NaN</td>\n",
              "      <td>5</td>\n",
              "      <td>5.0</td>\n",
              "      <td>NaN</td>\n",
              "      <td>NaN</td>\n",
              "      <td>NaN</td>\n",
              "      <td>NaN</td>\n",
              "      <td>NaN</td>\n",
              "      <td>NaN</td>\n",
              "      <td>0.484482</td>\n",
              "    </tr>\n",
              "    <tr>\n",
              "      <th>2</th>\n",
              "      <td>31</td>\n",
              "      <td>3</td>\n",
              "      <td>1</td>\n",
              "      <td>5</td>\n",
              "      <td>3</td>\n",
              "      <td>2</td>\n",
              "      <td>2</td>\n",
              "      <td>2</td>\n",
              "      <td>1</td>\n",
              "      <td>1</td>\n",
              "      <td>...</td>\n",
              "      <td>NaN</td>\n",
              "      <td>1</td>\n",
              "      <td>1.0</td>\n",
              "      <td>NaN</td>\n",
              "      <td>NaN</td>\n",
              "      <td>NaN</td>\n",
              "      <td>NaN</td>\n",
              "      <td>NaN</td>\n",
              "      <td>NaN</td>\n",
              "      <td>0.381194</td>\n",
              "    </tr>\n",
              "    <tr>\n",
              "      <th>3</th>\n",
              "      <td>41</td>\n",
              "      <td>4</td>\n",
              "      <td>1</td>\n",
              "      <td>5</td>\n",
              "      <td>3</td>\n",
              "      <td>3</td>\n",
              "      <td>2</td>\n",
              "      <td>2</td>\n",
              "      <td>1</td>\n",
              "      <td>1</td>\n",
              "      <td>...</td>\n",
              "      <td>NaN</td>\n",
              "      <td>5</td>\n",
              "      <td>5.0</td>\n",
              "      <td>5.0</td>\n",
              "      <td>NaN</td>\n",
              "      <td>NaN</td>\n",
              "      <td>NaN</td>\n",
              "      <td>NaN</td>\n",
              "      <td>NaN</td>\n",
              "      <td>0.563903</td>\n",
              "    </tr>\n",
              "    <tr>\n",
              "      <th>4</th>\n",
              "      <td>51</td>\n",
              "      <td>5</td>\n",
              "      <td>1</td>\n",
              "      <td>5</td>\n",
              "      <td>3</td>\n",
              "      <td>2</td>\n",
              "      <td>2</td>\n",
              "      <td>1</td>\n",
              "      <td>1</td>\n",
              "      <td>1</td>\n",
              "      <td>...</td>\n",
              "      <td>NaN</td>\n",
              "      <td>5</td>\n",
              "      <td>5.0</td>\n",
              "      <td>NaN</td>\n",
              "      <td>NaN</td>\n",
              "      <td>NaN</td>\n",
              "      <td>NaN</td>\n",
              "      <td>NaN</td>\n",
              "      <td>NaN</td>\n",
              "      <td>0.332049</td>\n",
              "    </tr>\n",
              "  </tbody>\n",
              "</table>\n",
              "<p>5 rows × 190 columns</p>\n",
              "</div>"
            ],
            "text/plain": [
              "   PID  HID  DQ1  DQ2  DQ3  DQ4  DQ5  DQ6  DQ7  DQ8  ...  DQ15_8  DQ16_1  \\\n",
              "0   12    1    1    5    3    3    3    3    2    2  ...     NaN       5   \n",
              "1   22    2    1    5    3    2    2    2    2    2  ...     NaN       5   \n",
              "2   31    3    1    5    3    2    2    2    1    1  ...     NaN       1   \n",
              "3   41    4    1    5    3    3    2    2    1    1  ...     NaN       5   \n",
              "4   51    5    1    5    3    2    2    1    1    1  ...     NaN       5   \n",
              "\n",
              "   DQ16_2  DQ16_3  DQ16_4  DQ16_5  DQ16_6  DQ16_7  DQ16_8      HSWT  \n",
              "0     5.0     5.0     NaN     NaN     NaN     NaN     NaN  0.547950  \n",
              "1     5.0     NaN     NaN     NaN     NaN     NaN     NaN  0.484482  \n",
              "2     1.0     NaN     NaN     NaN     NaN     NaN     NaN  0.381194  \n",
              "3     5.0     5.0     NaN     NaN     NaN     NaN     NaN  0.563903  \n",
              "4     5.0     NaN     NaN     NaN     NaN     NaN     NaN  0.332049  \n",
              "\n",
              "[5 rows x 190 columns]"
            ]
          },
          "execution_count": 7,
          "metadata": {},
          "output_type": "execute_result"
        }
      ],
      "source": [
        "df.head()"
      ]
    },
    {
      "cell_type": "code",
      "execution_count": null,
      "metadata": {
        "colab": {
          "base_uri": "https://localhost:8080/",
          "height": 424
        },
        "id": "tbuLvLImQxl7",
        "outputId": "ed445d9b-c06b-4c3c-8bd5-ae4d7a03ec7f"
      },
      "outputs": [],
      "source": [
        "codebook"
      ]
    },
    {
      "cell_type": "code",
      "execution_count": 8,
      "metadata": {
        "colab": {
          "base_uri": "https://localhost:8080/",
          "height": 350
        },
        "id": "9pCGLmHkvK6N",
        "outputId": "ee39a639-f67f-4c6c-85de-4094a1bd05d5"
      },
      "outputs": [
        {
          "data": {
            "text/html": [
              "<div>\n",
              "<style scoped>\n",
              "    .dataframe tbody tr th:only-of-type {\n",
              "        vertical-align: middle;\n",
              "    }\n",
              "\n",
              "    .dataframe tbody tr th {\n",
              "        vertical-align: top;\n",
              "    }\n",
              "\n",
              "    .dataframe thead th {\n",
              "        text-align: right;\n",
              "    }\n",
              "</style>\n",
              "<table border=\"1\" class=\"dataframe\">\n",
              "  <thead>\n",
              "    <tr style=\"text-align: right;\">\n",
              "      <th></th>\n",
              "      <th>PID</th>\n",
              "      <th>HID</th>\n",
              "      <th>DQ1</th>\n",
              "      <th>DQ2</th>\n",
              "      <th>DQ3</th>\n",
              "      <th>DQ4</th>\n",
              "      <th>DQ5</th>\n",
              "      <th>DQ6</th>\n",
              "      <th>DQ7</th>\n",
              "      <th>DQ8</th>\n",
              "      <th>...</th>\n",
              "      <th>DQ15_8</th>\n",
              "      <th>DQ16_1</th>\n",
              "      <th>DQ16_2</th>\n",
              "      <th>DQ16_3</th>\n",
              "      <th>DQ16_4</th>\n",
              "      <th>DQ16_5</th>\n",
              "      <th>DQ16_6</th>\n",
              "      <th>DQ16_7</th>\n",
              "      <th>DQ16_8</th>\n",
              "      <th>HSWT</th>\n",
              "    </tr>\n",
              "  </thead>\n",
              "  <tbody>\n",
              "    <tr>\n",
              "      <th>count</th>\n",
              "      <td>16000.000000</td>\n",
              "      <td>16000.000000</td>\n",
              "      <td>16000.000000</td>\n",
              "      <td>16000.000000</td>\n",
              "      <td>16000.00000</td>\n",
              "      <td>16000.000000</td>\n",
              "      <td>16000.000000</td>\n",
              "      <td>16000.000000</td>\n",
              "      <td>16000.000000</td>\n",
              "      <td>16000.00000</td>\n",
              "      <td>...</td>\n",
              "      <td>2.0</td>\n",
              "      <td>16000.000000</td>\n",
              "      <td>12737.000000</td>\n",
              "      <td>7066.000000</td>\n",
              "      <td>2631.000000</td>\n",
              "      <td>392.000000</td>\n",
              "      <td>74.000000</td>\n",
              "      <td>17.000000</td>\n",
              "      <td>2.0</td>\n",
              "      <td>16000.000000</td>\n",
              "    </tr>\n",
              "    <tr>\n",
              "      <th>mean</th>\n",
              "      <td>80052.017063</td>\n",
              "      <td>8005.068250</td>\n",
              "      <td>16.117938</td>\n",
              "      <td>2.969000</td>\n",
              "      <td>2.98800</td>\n",
              "      <td>2.432437</td>\n",
              "      <td>2.226375</td>\n",
              "      <td>2.104812</td>\n",
              "      <td>1.334563</td>\n",
              "      <td>1.33450</td>\n",
              "      <td>...</td>\n",
              "      <td>1.0</td>\n",
              "      <td>3.645812</td>\n",
              "      <td>3.629034</td>\n",
              "      <td>3.971129</td>\n",
              "      <td>4.032307</td>\n",
              "      <td>4.025510</td>\n",
              "      <td>4.040541</td>\n",
              "      <td>4.411765</td>\n",
              "      <td>5.0</td>\n",
              "      <td>1.000000</td>\n",
              "    </tr>\n",
              "    <tr>\n",
              "      <th>std</th>\n",
              "      <td>46228.069154</td>\n",
              "      <td>4622.805904</td>\n",
              "      <td>10.013556</td>\n",
              "      <td>1.153905</td>\n",
              "      <td>0.14224</td>\n",
              "      <td>1.057239</td>\n",
              "      <td>0.916069</td>\n",
              "      <td>0.813399</td>\n",
              "      <td>0.471984</td>\n",
              "      <td>0.47183</td>\n",
              "      <td>...</td>\n",
              "      <td>0.0</td>\n",
              "      <td>1.724761</td>\n",
              "      <td>1.732236</td>\n",
              "      <td>1.630222</td>\n",
              "      <td>1.602784</td>\n",
              "      <td>1.670984</td>\n",
              "      <td>1.723641</td>\n",
              "      <td>1.371989</td>\n",
              "      <td>0.0</td>\n",
              "      <td>1.721553</td>\n",
              "    </tr>\n",
              "    <tr>\n",
              "      <th>min</th>\n",
              "      <td>12.000000</td>\n",
              "      <td>1.000000</td>\n",
              "      <td>1.000000</td>\n",
              "      <td>1.000000</td>\n",
              "      <td>1.00000</td>\n",
              "      <td>1.000000</td>\n",
              "      <td>1.000000</td>\n",
              "      <td>1.000000</td>\n",
              "      <td>1.000000</td>\n",
              "      <td>1.00000</td>\n",
              "      <td>...</td>\n",
              "      <td>1.0</td>\n",
              "      <td>1.000000</td>\n",
              "      <td>1.000000</td>\n",
              "      <td>0.000000</td>\n",
              "      <td>0.000000</td>\n",
              "      <td>0.000000</td>\n",
              "      <td>0.000000</td>\n",
              "      <td>1.000000</td>\n",
              "      <td>5.0</td>\n",
              "      <td>0.009128</td>\n",
              "    </tr>\n",
              "    <tr>\n",
              "      <th>25%</th>\n",
              "      <td>40028.500000</td>\n",
              "      <td>4002.750000</td>\n",
              "      <td>8.000000</td>\n",
              "      <td>3.000000</td>\n",
              "      <td>3.00000</td>\n",
              "      <td>2.000000</td>\n",
              "      <td>2.000000</td>\n",
              "      <td>2.000000</td>\n",
              "      <td>1.000000</td>\n",
              "      <td>1.00000</td>\n",
              "      <td>...</td>\n",
              "      <td>1.0</td>\n",
              "      <td>2.000000</td>\n",
              "      <td>2.000000</td>\n",
              "      <td>3.000000</td>\n",
              "      <td>3.000000</td>\n",
              "      <td>3.000000</td>\n",
              "      <td>5.000000</td>\n",
              "      <td>5.000000</td>\n",
              "      <td>5.0</td>\n",
              "      <td>0.256753</td>\n",
              "    </tr>\n",
              "    <tr>\n",
              "      <th>50%</th>\n",
              "      <td>80036.000000</td>\n",
              "      <td>8003.500000</td>\n",
              "      <td>15.000000</td>\n",
              "      <td>3.000000</td>\n",
              "      <td>3.00000</td>\n",
              "      <td>2.000000</td>\n",
              "      <td>2.000000</td>\n",
              "      <td>2.000000</td>\n",
              "      <td>1.000000</td>\n",
              "      <td>1.00000</td>\n",
              "      <td>...</td>\n",
              "      <td>1.0</td>\n",
              "      <td>5.000000</td>\n",
              "      <td>5.000000</td>\n",
              "      <td>5.000000</td>\n",
              "      <td>5.000000</td>\n",
              "      <td>5.000000</td>\n",
              "      <td>5.000000</td>\n",
              "      <td>5.000000</td>\n",
              "      <td>5.0</td>\n",
              "      <td>0.552603</td>\n",
              "    </tr>\n",
              "    <tr>\n",
              "      <th>75%</th>\n",
              "      <td>120114.500000</td>\n",
              "      <td>12011.250000</td>\n",
              "      <td>23.000000</td>\n",
              "      <td>3.000000</td>\n",
              "      <td>3.00000</td>\n",
              "      <td>3.000000</td>\n",
              "      <td>3.000000</td>\n",
              "      <td>3.000000</td>\n",
              "      <td>2.000000</td>\n",
              "      <td>2.00000</td>\n",
              "      <td>...</td>\n",
              "      <td>1.0</td>\n",
              "      <td>5.000000</td>\n",
              "      <td>5.000000</td>\n",
              "      <td>5.000000</td>\n",
              "      <td>5.000000</td>\n",
              "      <td>5.000000</td>\n",
              "      <td>5.000000</td>\n",
              "      <td>5.000000</td>\n",
              "      <td>5.0</td>\n",
              "      <td>1.095558</td>\n",
              "    </tr>\n",
              "    <tr>\n",
              "      <th>max</th>\n",
              "      <td>160111.000000</td>\n",
              "      <td>16011.000000</td>\n",
              "      <td>38.000000</td>\n",
              "      <td>7.000000</td>\n",
              "      <td>4.00000</td>\n",
              "      <td>8.000000</td>\n",
              "      <td>8.000000</td>\n",
              "      <td>6.000000</td>\n",
              "      <td>3.000000</td>\n",
              "      <td>2.00000</td>\n",
              "      <td>...</td>\n",
              "      <td>1.0</td>\n",
              "      <td>5.000000</td>\n",
              "      <td>5.000000</td>\n",
              "      <td>5.000000</td>\n",
              "      <td>5.000000</td>\n",
              "      <td>5.000000</td>\n",
              "      <td>5.000000</td>\n",
              "      <td>5.000000</td>\n",
              "      <td>5.0</td>\n",
              "      <td>49.839419</td>\n",
              "    </tr>\n",
              "  </tbody>\n",
              "</table>\n",
              "<p>8 rows × 185 columns</p>\n",
              "</div>"
            ],
            "text/plain": [
              "                 PID           HID           DQ1           DQ2          DQ3  \\\n",
              "count   16000.000000  16000.000000  16000.000000  16000.000000  16000.00000   \n",
              "mean    80052.017063   8005.068250     16.117938      2.969000      2.98800   \n",
              "std     46228.069154   4622.805904     10.013556      1.153905      0.14224   \n",
              "min        12.000000      1.000000      1.000000      1.000000      1.00000   \n",
              "25%     40028.500000   4002.750000      8.000000      3.000000      3.00000   \n",
              "50%     80036.000000   8003.500000     15.000000      3.000000      3.00000   \n",
              "75%    120114.500000  12011.250000     23.000000      3.000000      3.00000   \n",
              "max    160111.000000  16011.000000     38.000000      7.000000      4.00000   \n",
              "\n",
              "                DQ4           DQ5           DQ6           DQ7          DQ8  \\\n",
              "count  16000.000000  16000.000000  16000.000000  16000.000000  16000.00000   \n",
              "mean       2.432437      2.226375      2.104812      1.334563      1.33450   \n",
              "std        1.057239      0.916069      0.813399      0.471984      0.47183   \n",
              "min        1.000000      1.000000      1.000000      1.000000      1.00000   \n",
              "25%        2.000000      2.000000      2.000000      1.000000      1.00000   \n",
              "50%        2.000000      2.000000      2.000000      1.000000      1.00000   \n",
              "75%        3.000000      3.000000      3.000000      2.000000      2.00000   \n",
              "max        8.000000      8.000000      6.000000      3.000000      2.00000   \n",
              "\n",
              "       ...  DQ15_8        DQ16_1        DQ16_2       DQ16_3       DQ16_4  \\\n",
              "count  ...     2.0  16000.000000  12737.000000  7066.000000  2631.000000   \n",
              "mean   ...     1.0      3.645812      3.629034     3.971129     4.032307   \n",
              "std    ...     0.0      1.724761      1.732236     1.630222     1.602784   \n",
              "min    ...     1.0      1.000000      1.000000     0.000000     0.000000   \n",
              "25%    ...     1.0      2.000000      2.000000     3.000000     3.000000   \n",
              "50%    ...     1.0      5.000000      5.000000     5.000000     5.000000   \n",
              "75%    ...     1.0      5.000000      5.000000     5.000000     5.000000   \n",
              "max    ...     1.0      5.000000      5.000000     5.000000     5.000000   \n",
              "\n",
              "           DQ16_5     DQ16_6     DQ16_7  DQ16_8          HSWT  \n",
              "count  392.000000  74.000000  17.000000     2.0  16000.000000  \n",
              "mean     4.025510   4.040541   4.411765     5.0      1.000000  \n",
              "std      1.670984   1.723641   1.371989     0.0      1.721553  \n",
              "min      0.000000   0.000000   1.000000     5.0      0.009128  \n",
              "25%      3.000000   5.000000   5.000000     5.0      0.256753  \n",
              "50%      5.000000   5.000000   5.000000     5.0      0.552603  \n",
              "75%      5.000000   5.000000   5.000000     5.0      1.095558  \n",
              "max      5.000000   5.000000   5.000000     5.0     49.839419  \n",
              "\n",
              "[8 rows x 185 columns]"
            ]
          },
          "execution_count": 8,
          "metadata": {},
          "output_type": "execute_result"
        }
      ],
      "source": [
        "df.describe()"
      ]
    },
    {
      "cell_type": "code",
      "execution_count": 9,
      "metadata": {
        "colab": {
          "base_uri": "https://localhost:8080/",
          "height": 708
        },
        "id": "qDjJ7IxCwDuq",
        "outputId": "fac60e72-e65f-4051-917f-d1c412742575"
      },
      "outputs": [
        {
          "data": {
            "text/html": [
              "<div>\n",
              "<style scoped>\n",
              "    .dataframe tbody tr th:only-of-type {\n",
              "        vertical-align: middle;\n",
              "    }\n",
              "\n",
              "    .dataframe tbody tr th {\n",
              "        vertical-align: top;\n",
              "    }\n",
              "\n",
              "    .dataframe thead th {\n",
              "        text-align: right;\n",
              "    }\n",
              "</style>\n",
              "<table border=\"1\" class=\"dataframe\">\n",
              "  <thead>\n",
              "    <tr style=\"text-align: right;\">\n",
              "      <th></th>\n",
              "      <th>count</th>\n",
              "    </tr>\n",
              "    <tr>\n",
              "      <th>B1A_1</th>\n",
              "      <th></th>\n",
              "    </tr>\n",
              "  </thead>\n",
              "  <tbody>\n",
              "    <tr>\n",
              "      <th>7</th>\n",
              "      <td>1581</td>\n",
              "    </tr>\n",
              "    <tr>\n",
              "      <th>11</th>\n",
              "      <td>1575</td>\n",
              "    </tr>\n",
              "    <tr>\n",
              "      <th>5</th>\n",
              "      <td>1379</td>\n",
              "    </tr>\n",
              "    <tr>\n",
              "      <th>6</th>\n",
              "      <td>1379</td>\n",
              "    </tr>\n",
              "    <tr>\n",
              "      <th>9</th>\n",
              "      <td>1375</td>\n",
              "    </tr>\n",
              "    <tr>\n",
              "      <th>2</th>\n",
              "      <td>1223</td>\n",
              "    </tr>\n",
              "    <tr>\n",
              "      <th>8</th>\n",
              "      <td>1159</td>\n",
              "    </tr>\n",
              "    <tr>\n",
              "      <th>10</th>\n",
              "      <td>1026</td>\n",
              "    </tr>\n",
              "    <tr>\n",
              "      <th>4</th>\n",
              "      <td>920</td>\n",
              "    </tr>\n",
              "    <tr>\n",
              "      <th>3</th>\n",
              "      <td>869</td>\n",
              "    </tr>\n",
              "    <tr>\n",
              "      <th>13</th>\n",
              "      <td>822</td>\n",
              "    </tr>\n",
              "    <tr>\n",
              "      <th>12</th>\n",
              "      <td>668</td>\n",
              "    </tr>\n",
              "    <tr>\n",
              "      <th>1</th>\n",
              "      <td>554</td>\n",
              "    </tr>\n",
              "    <tr>\n",
              "      <th>15</th>\n",
              "      <td>434</td>\n",
              "    </tr>\n",
              "    <tr>\n",
              "      <th>14</th>\n",
              "      <td>342</td>\n",
              "    </tr>\n",
              "    <tr>\n",
              "      <th>17</th>\n",
              "      <td>235</td>\n",
              "    </tr>\n",
              "    <tr>\n",
              "      <th>20</th>\n",
              "      <td>214</td>\n",
              "    </tr>\n",
              "    <tr>\n",
              "      <th>16</th>\n",
              "      <td>119</td>\n",
              "    </tr>\n",
              "    <tr>\n",
              "      <th>19</th>\n",
              "      <td>74</td>\n",
              "    </tr>\n",
              "    <tr>\n",
              "      <th>18</th>\n",
              "      <td>52</td>\n",
              "    </tr>\n",
              "  </tbody>\n",
              "</table>\n",
              "</div>"
            ],
            "text/plain": [
              "       count\n",
              "B1A_1       \n",
              "7       1581\n",
              "11      1575\n",
              "5       1379\n",
              "6       1379\n",
              "9       1375\n",
              "2       1223\n",
              "8       1159\n",
              "10      1026\n",
              "4        920\n",
              "3        869\n",
              "13       822\n",
              "12       668\n",
              "1        554\n",
              "15       434\n",
              "14       342\n",
              "17       235\n",
              "20       214\n",
              "16       119\n",
              "19        74\n",
              "18        52"
            ]
          },
          "execution_count": 9,
          "metadata": {},
          "output_type": "execute_result"
        }
      ],
      "source": [
        "cnt=df['B1A_1'].value_counts()\n",
        "pd.DataFrame(cnt)"
      ]
    },
    {
      "cell_type": "code",
      "execution_count": null,
      "metadata": {
        "colab": {
          "base_uri": "https://localhost:8080/"
        },
        "id": "Y79CR2oszcK0",
        "outputId": "fb3ff022-56b2-4814-b017-826215b8ab4a"
      },
      "outputs": [],
      "source": [
        "df['B1A_1']"
      ]
    },
    {
      "cell_type": "code",
      "execution_count": 10,
      "metadata": {
        "id": "Ye_n0rjEFot1"
      },
      "outputs": [],
      "source": [
        "#각각 Income과 Expenditure로 전처리해서 가독성 높임\n",
        "df.rename(columns={'B1A_1': 'Income', 'B1A_2': 'Expenditure'}, inplace=True)"
      ]
    },
    {
      "cell_type": "code",
      "execution_count": 11,
      "metadata": {
        "colab": {
          "base_uri": "https://localhost:8080/"
        },
        "id": "ZmeuH0Rc0h6l",
        "outputId": "6f80a740-c5a3-4fdb-a889-bc98411c8ccd"
      },
      "outputs": [
        {
          "name": "stdout",
          "output_type": "stream",
          "text": [
            "count    16000.000000\n",
            "mean         7.954750\n",
            "std          4.207159\n",
            "min          1.000000\n",
            "25%          5.000000\n",
            "50%          8.000000\n",
            "75%         11.000000\n",
            "max         20.000000\n",
            "Name: Income, dtype: float64\n"
          ]
        },
        {
          "data": {
            "text/plain": [
              "count    16000.000000\n",
              "mean         4.832562\n",
              "std          2.749932\n",
              "min          1.000000\n",
              "25%          3.000000\n",
              "50%          5.000000\n",
              "75%          7.000000\n",
              "max         20.000000\n",
              "Name: Expenditure, dtype: float64"
            ]
          },
          "execution_count": 11,
          "metadata": {},
          "output_type": "execute_result"
        }
      ],
      "source": [
        "income = df['Income'] #통계량 확인\n",
        "expenses = df['Expenditure']\n",
        "\n",
        "print(income.describe())\n",
        "expenses.describe()"
      ]
    },
    {
      "cell_type": "code",
      "execution_count": 12,
      "metadata": {
        "colab": {
          "base_uri": "https://localhost:8080/"
        },
        "id": "QSufambE6ZRR",
        "outputId": "d3afae17-e9f0-4a33-89b1-8add2a2b24e1"
      },
      "outputs": [
        {
          "data": {
            "text/plain": [
              "Income\n",
              "1      1.023466\n",
              "2      1.435814\n",
              "3      1.868815\n",
              "4      2.414130\n",
              "5      3.224075\n",
              "6      3.802756\n",
              "7      4.571790\n",
              "8      5.047455\n",
              "9      5.903273\n",
              "10     5.853801\n",
              "11     6.796825\n",
              "12     6.835329\n",
              "13     7.478102\n",
              "14     7.353801\n",
              "15     8.357143\n",
              "16     8.319328\n",
              "17     8.838298\n",
              "18     7.769231\n",
              "19     9.054054\n",
              "20    11.967290\n",
              "Name: Expenditure, dtype: float64"
            ]
          },
          "execution_count": 12,
          "metadata": {},
          "output_type": "execute_result"
        }
      ],
      "source": [
        " #그룹화된 소득을 기준 지출의 평균 계산\n",
        "income_expenses_mean = df.groupby('Income')['Expenditure'].mean()\n",
        "income_expenses_mean #소득에 따른 지출 평균"
      ]
    },
    {
      "cell_type": "code",
      "execution_count": 13,
      "metadata": {
        "colab": {
          "base_uri": "https://localhost:8080/",
          "height": 564
        },
        "id": "6qV3lJ3M8jB0",
        "outputId": "c05214d3-1aa9-4506-bbfc-167876be4124"
      },
      "outputs": [
        {
          "data": {
            "image/png": "[encoded data removed]",
            "text/plain": [
              "<Figure size 800x600 with 1 Axes>"
            ]
          },
          "metadata": {},
          "output_type": "display_data"
        }
      ],
      "source": [
        "plt.figure(figsize=(8, 6)) #이상치 확인 (B1A_2에 이상치 존재)\n",
        "sns.boxplot(data=df[['Income', 'Expenditure']])\n",
        "plt.title(\"Outlier of Income and Expenses\")\n",
        "plt.xlabel(\"Variable\")\n",
        "plt.ylabel(\"Value\")\n",
        "plt.show()"
      ]
    },
    {
      "cell_type": "code",
      "execution_count": 14,
      "metadata": {
        "colab": {
          "base_uri": "https://localhost:8080/"
        },
        "id": "77KQPEHO_Cpy",
        "outputId": "1261d1b1-37aa-4fb1-fe4b-c7adfe885082"
      },
      "outputs": [
        {
          "name": "stdout",
          "output_type": "stream",
          "text": [
            "Income과 Expenditure의 결측치 개수:\n",
            "Income         0\n",
            "Expenditure    0\n",
            "dtype: int64\n"
          ]
        }
      ],
      "source": [
        "missing_values_b1a = df[['Income', 'Expenditure']].isnull().sum() #결측치가 없는 것으로 확인\n",
        "print(\"Income과 Expenditure의 결측치 개수:\")\n",
        "print(missing_values_b1a)"
      ]
    },
    {
      "cell_type": "code",
      "execution_count": 15,
      "metadata": {
        "colab": {
          "base_uri": "https://localhost:8080/",
          "height": 564
        },
        "id": "h_lrZGcmBbQf",
        "outputId": "6fd3fe8f-80e1-441b-e54d-9f478e057a0b"
      },
      "outputs": [
        {
          "name": "stderr",
          "output_type": "stream",
          "text": [
            "c:\\anaconda\\Lib\\site-packages\\seaborn\\_oldcore.py:1119: FutureWarning: use_inf_as_na option is deprecated and will be removed in a future version. Convert inf values to NaN before operating instead.\n",
            "  with pd.option_context('mode.use_inf_as_na', True):\n"
          ]
        },
        {
          "data": {
            "image/png": "[encoded data removed]",
            "text/plain": [
              "<Figure size 1000x600 with 1 Axes>"
            ]
          },
          "metadata": {},
          "output_type": "display_data"
        }
      ],
      "source": [
        "plt.figure(figsize=(10, 6))# 데이터 분포 시각화\n",
        "sns.histplot(data=df[['Income', 'Expenditure']], bins=20, kde=True)\n",
        "plt.title('Distribution of Income and Expenses')\n",
        "plt.xlabel('Value')\n",
        "plt.ylabel('Frequency')\n",
        "plt.legend(['Income', 'Expenditure'])\n",
        "plt.show()"
      ]
    },
    {
      "cell_type": "code",
      "execution_count": 16,
      "metadata": {
        "colab": {
          "base_uri": "https://localhost:8080/",
          "height": 545
        },
        "id": "sn4QFj9wB3Ql",
        "outputId": "43d903f6-b640-4535-d585-a38bf5bdb9a2"
      },
      "outputs": [
        {
          "data": {
            "image/png": "[encoded data removed]",
            "text/plain": [
              "<Figure size 800x600 with 2 Axes>"
            ]
          },
          "metadata": {},
          "output_type": "display_data"
        }
      ],
      "source": [
        "# 상관관계(소득이 높을 수록 지출이 높다고 볼 수 있다.)\n",
        "plt.figure(figsize=(8, 6))\n",
        "sns.heatmap(df[['Income', 'Expenditure']].corr(), annot=True)\n",
        "plt.title('Correlation of Income and Expenditure')\n",
        "plt.show()"
      ]
    },
    {
      "cell_type": "code",
      "execution_count": 17,
      "metadata": {
        "colab": {
          "base_uri": "https://localhost:8080/",
          "height": 564
        },
        "id": "oEEYxGK2I6LL",
        "outputId": "66f9c1b7-0ae8-4e82-aa92-9e4c90be0534"
      },
      "outputs": [
        {
          "data": {
            "image/png": "[encoded data removed]",
            "text/plain": [
              "<Figure size 1000x600 with 1 Axes>"
            ]
          },
          "metadata": {},
          "output_type": "display_data"
        }
      ],
      "source": [
        "plt.figure(figsize=(10,6)) #소득에 따른 지출 정도 확인\n",
        "plt.scatter(income, expenses)\n",
        "plt.title(\"expenditure according to income\")\n",
        "plt.xlabel(\"Income\")\n",
        "plt.ylabel(\"Expenditure\")\n",
        "plt.show()"
      ]
    },
    {
      "cell_type": "markdown",
      "metadata": {},
      "source": [
        "## 상관 분석\n",
        "- 주거비 부담 정도, 주거관리비 부담 정도, 생활비, 가구 소득과 주택 만족도의 상관 분석을 해보고 싶었습니다"
      ]
    },
    {
      "cell_type": "code",
      "execution_count": 23,
      "metadata": {},
      "outputs": [],
      "source": [
        "#가독성 향상\n",
        "data_df = df.rename(columns={\n",
        "    'A5': 'Housing_Satisfaction',\n",
        "    'A4_1': 'Housing_Cost_Burden',\n",
        "    'A4_2': 'Maintenance_Cost_Burden',\n",
        "    'B2A_1': 'Monthly_Min_Living_Cost',\n",
        "    'B1A_1': 'Annual_Household_Income'\n",
        "})"
      ]
    },
    {
      "cell_type": "code",
      "execution_count": 24,
      "metadata": {},
      "outputs": [],
      "source": [
        "#칼럼 선택\n",
        "select_columns = [\n",
        "    'Housing_Satisfaction', #주택 만족도\n",
        "    'Housing_Cost_Burden', #주거비 부담 정도\n",
        "    'Maintenance_Cost_Burden', #주거관리비 부담정도\n",
        "    'Monthly_Min_Living_Cost', #한 달 최소 생활비\n",
        "    'Annual_Household_Income' #작년 한 해 가구 소득\n",
        "]"
      ]
    },
    {
      "cell_type": "code",
      "execution_count": null,
      "metadata": {},
      "outputs": [],
      "source": [
        "#결측치 제거\n",
        "data_filtered_renamed = data_df[select_columns].dropna()"
      ]
    },
    {
      "cell_type": "code",
      "execution_count": null,
      "metadata": {},
      "outputs": [],
      "source": [
        "#상관 분석\n",
        "correlation_matrix_renamed = data_filtered_renamed.corr()"
      ]
    },
    {
      "cell_type": "code",
      "execution_count": null,
      "metadata": {},
      "outputs": [],
      "source": [
        "#히트맵으로 시각화(주택 만족도와 주거비 부담 정도, 주거관리비 부담 정도, 한 달 최소 생활비, 작년 한 해 가구 소득 상관분석)\n",
        "plt.figure(figsize=(10, 8))\n",
        "sns.heatmap(correlation_matrix_renamed, annot=True, cmap='coolwarm', vmin=-1, vmax=1)\n",
        "plt.title('Correlation analysis')\n",
        "plt.show()\n",
        "\n",
        "#분석 결과 주택 만족도와의 상관관계가 크지 않다는 것을 알 수 있었음."
      ]
    },
    {
      "cell_type": "markdown",
      "metadata": {},
      "source": [
        "## 연관 분석\n",
        "- 가구 소득을 장바구니라고 생각하고 주택형태, 주거위치, 점유형태를 장바구니 속 물건이라고 생각해봤습니다.\n",
        "- 저소득, 중간소득, 고소득에 따라서 거주형태 등이 궁금했습니다."
      ]
    },
    {
      "cell_type": "code",
      "execution_count": 12,
      "metadata": {},
      "outputs": [],
      "source": [
        "from mlxtend.preprocessing import TransactionEncoder\n",
        "from mlxtend.frequent_patterns import apriori, association_rules"
      ]
    },
    {
      "cell_type": "code",
      "execution_count": 29,
      "metadata": {},
      "outputs": [],
      "source": [
        "#필요한 칼럼 추출\n",
        "data_association = df[['B1A_1', 'DQ2', 'DQ3', 'A3']]\n",
        "\n",
        "#가독성을 위한 칼럼명 변경\n",
        "data_association.columns = ['Annual_Income',\n",
        "                             'Housing_Type', \n",
        "                             'Housing_Location', \n",
        "                             'Occupancy_Type'\n",
        "                             ]"
      ]
    },
    {
      "cell_type": "code",
      "execution_count": 30,
      "metadata": {},
      "outputs": [
        {
          "name": "stdout",
          "output_type": "stream",
          "text": [
            "1\n",
            "20\n"
          ]
        }
      ],
      "source": [
        "income_min = data_association['Annual_Income'].min()\n",
        "income_max = data_association['Annual_Income'].max()\n",
        "\n",
        "print(income_min)\n",
        "print(income_max)"
      ]
    },
    {
      "cell_type": "code",
      "execution_count": null,
      "metadata": {},
      "outputs": [],
      "source": [
        "# 연간 소득을 범주형 데이터로 변환\n",
        "income_bins = [income_min, 7, 14, income_max]\n",
        "income_labels = ['Low', 'Medium', 'High']\n",
        "\n",
        "data_association['Income_Category'] = pd.cut(data_association['Annual_Income'], bins=income_bins, labels=income_labels, include_lowest=True)"
      ]
    },
    {
      "cell_type": "code",
      "execution_count": null,
      "metadata": {},
      "outputs": [],
      "source": [
        "#기존 소득 칼럼 제거(범주형 데이터로 전환했기 때문에 그냥 두면 데이터가 중복)\n",
        "data_association.drop('Annual_Income', axis=1, inplace=True)"
      ]
    },
    {
      "cell_type": "code",
      "execution_count": null,
      "metadata": {},
      "outputs": [],
      "source": [
        "#결측값 제거\n",
        "data_association.dropna(inplace=True)"
      ]
    },
    {
      "cell_type": "code",
      "execution_count": null,
      "metadata": {},
      "outputs": [],
      "source": [
        "# Housing_Type과 Housing_Location을 범주형 데이터로 변환\n",
        "data_association['Housing_Type'] = data_association['Housing_Type'].astype('category')\n",
        "data_association['Housing_Location'] = data_association['Housing_Location'].astype('category')\n"
      ]
    },
    {
      "cell_type": "code",
      "execution_count": 36,
      "metadata": {},
      "outputs": [
        {
          "name": "stdout",
          "output_type": "stream",
          "text": [
            "   Occupancy_Type  Housing_Type_1  Housing_Type_2  Housing_Type_3  \\\n",
            "0               1           False           False           False   \n",
            "1               1           False           False           False   \n",
            "2               1           False           False           False   \n",
            "3               1           False           False           False   \n",
            "4               1           False           False           False   \n",
            "\n",
            "   Housing_Type_4  Housing_Type_5  Housing_Type_6  Housing_Type_7  \\\n",
            "0           False            True           False           False   \n",
            "1           False            True           False           False   \n",
            "2           False            True           False           False   \n",
            "3           False            True           False           False   \n",
            "4           False            True           False           False   \n",
            "\n",
            "   Housing_Location_1  Housing_Location_2  Housing_Location_3  \\\n",
            "0               False               False                True   \n",
            "1               False               False                True   \n",
            "2               False               False                True   \n",
            "3               False               False                True   \n",
            "4               False               False                True   \n",
            "\n",
            "   Housing_Location_4  Income_Category_Low  Income_Category_Medium  \\\n",
            "0               False                False                    True   \n",
            "1               False                False                    True   \n",
            "2               False                 True                   False   \n",
            "3               False                 True                   False   \n",
            "4               False                False                    True   \n",
            "\n",
            "   Income_Category_High  \n",
            "0                 False  \n",
            "1                 False  \n",
            "2                 False  \n",
            "3                 False  \n",
            "4                 False  \n"
          ]
        }
      ],
      "source": [
        "#범주형 데이터 처리를 위해서 원핫 인코딩\n",
        "onehot_data = pd.get_dummies(data_association)\n",
        "\n",
        "print(onehot_data.head())"
      ]
    },
    {
      "cell_type": "code",
      "execution_count": null,
      "metadata": {},
      "outputs": [],
      "source": [
        "# True/False를 1/0으로 변환 (모두 이진 값이여야 한다)\n",
        "onehot_data = onehot_data.applymap(lambda x: 1 if x else 0)"
      ]
    },
    {
      "cell_type": "code",
      "execution_count": 43,
      "metadata": {},
      "outputs": [],
      "source": [
        "#Apriori 알고리즘 적용(빈번하게 나타나는 항목 탐색)\n",
        "frequent_itemsets = apriori(onehot_data, min_support=0.01, use_colnames=True)"
      ]
    },
    {
      "cell_type": "code",
      "execution_count": 46,
      "metadata": {},
      "outputs": [
        {
          "data": {
            "text/html": [
              "<div>\n",
              "<style scoped>\n",
              "    .dataframe tbody tr th:only-of-type {\n",
              "        vertical-align: middle;\n",
              "    }\n",
              "\n",
              "    .dataframe tbody tr th {\n",
              "        vertical-align: top;\n",
              "    }\n",
              "\n",
              "    .dataframe thead th {\n",
              "        text-align: right;\n",
              "    }\n",
              "</style>\n",
              "<table border=\"1\" class=\"dataframe\">\n",
              "  <thead>\n",
              "    <tr style=\"text-align: right;\">\n",
              "      <th></th>\n",
              "      <th>antecedents</th>\n",
              "      <th>consequents</th>\n",
              "      <th>antecedent support</th>\n",
              "      <th>consequent support</th>\n",
              "      <th>support</th>\n",
              "      <th>confidence</th>\n",
              "      <th>lift</th>\n",
              "      <th>leverage</th>\n",
              "      <th>conviction</th>\n",
              "      <th>zhangs_metric</th>\n",
              "    </tr>\n",
              "  </thead>\n",
              "  <tbody>\n",
              "    <tr>\n",
              "      <th>0</th>\n",
              "      <td>(Housing_Type_1)</td>\n",
              "      <td>(Occupancy_Type)</td>\n",
              "      <td>0.160875</td>\n",
              "      <td>1.000000</td>\n",
              "      <td>0.160875</td>\n",
              "      <td>1.000000</td>\n",
              "      <td>1.000000</td>\n",
              "      <td>0.000000</td>\n",
              "      <td>inf</td>\n",
              "      <td>0.000000</td>\n",
              "    </tr>\n",
              "    <tr>\n",
              "      <th>1</th>\n",
              "      <td>(Occupancy_Type)</td>\n",
              "      <td>(Housing_Type_1)</td>\n",
              "      <td>1.000000</td>\n",
              "      <td>0.160875</td>\n",
              "      <td>0.160875</td>\n",
              "      <td>0.160875</td>\n",
              "      <td>1.000000</td>\n",
              "      <td>0.000000</td>\n",
              "      <td>1.000000</td>\n",
              "      <td>0.000000</td>\n",
              "    </tr>\n",
              "    <tr>\n",
              "      <th>2</th>\n",
              "      <td>(Occupancy_Type)</td>\n",
              "      <td>(Housing_Type_2)</td>\n",
              "      <td>1.000000</td>\n",
              "      <td>0.061500</td>\n",
              "      <td>0.061500</td>\n",
              "      <td>0.061500</td>\n",
              "      <td>1.000000</td>\n",
              "      <td>0.000000</td>\n",
              "      <td>1.000000</td>\n",
              "      <td>0.000000</td>\n",
              "    </tr>\n",
              "    <tr>\n",
              "      <th>3</th>\n",
              "      <td>(Housing_Type_2)</td>\n",
              "      <td>(Occupancy_Type)</td>\n",
              "      <td>0.061500</td>\n",
              "      <td>1.000000</td>\n",
              "      <td>0.061500</td>\n",
              "      <td>1.000000</td>\n",
              "      <td>1.000000</td>\n",
              "      <td>0.000000</td>\n",
              "      <td>inf</td>\n",
              "      <td>0.000000</td>\n",
              "    </tr>\n",
              "    <tr>\n",
              "      <th>4</th>\n",
              "      <td>(Housing_Type_3)</td>\n",
              "      <td>(Occupancy_Type)</td>\n",
              "      <td>0.548312</td>\n",
              "      <td>1.000000</td>\n",
              "      <td>0.548312</td>\n",
              "      <td>1.000000</td>\n",
              "      <td>1.000000</td>\n",
              "      <td>0.000000</td>\n",
              "      <td>inf</td>\n",
              "      <td>0.000000</td>\n",
              "    </tr>\n",
              "    <tr>\n",
              "      <th>...</th>\n",
              "      <td>...</td>\n",
              "      <td>...</td>\n",
              "      <td>...</td>\n",
              "      <td>...</td>\n",
              "      <td>...</td>\n",
              "      <td>...</td>\n",
              "      <td>...</td>\n",
              "      <td>...</td>\n",
              "      <td>...</td>\n",
              "      <td>...</td>\n",
              "    </tr>\n",
              "    <tr>\n",
              "      <th>241</th>\n",
              "      <td>(Income_Category_Low)</td>\n",
              "      <td>(Housing_Location_3, Housing_Type_5, Occupancy...</td>\n",
              "      <td>0.494063</td>\n",
              "      <td>0.095812</td>\n",
              "      <td>0.054437</td>\n",
              "      <td>0.110183</td>\n",
              "      <td>1.149990</td>\n",
              "      <td>0.007100</td>\n",
              "      <td>1.016150</td>\n",
              "      <td>0.257793</td>\n",
              "    </tr>\n",
              "    <tr>\n",
              "      <th>242</th>\n",
              "      <td>(Housing_Type_5)</td>\n",
              "      <td>(Income_Category_Low, Housing_Location_3, Occu...</td>\n",
              "      <td>0.098750</td>\n",
              "      <td>0.487250</td>\n",
              "      <td>0.054437</td>\n",
              "      <td>0.551266</td>\n",
              "      <td>1.131382</td>\n",
              "      <td>0.006322</td>\n",
              "      <td>1.142659</td>\n",
              "      <td>0.128849</td>\n",
              "    </tr>\n",
              "    <tr>\n",
              "      <th>243</th>\n",
              "      <td>(Occupancy_Type)</td>\n",
              "      <td>(Income_Category_Low, Housing_Location_3, Hous...</td>\n",
              "      <td>1.000000</td>\n",
              "      <td>0.054437</td>\n",
              "      <td>0.054437</td>\n",
              "      <td>0.054437</td>\n",
              "      <td>1.000000</td>\n",
              "      <td>0.000000</td>\n",
              "      <td>1.000000</td>\n",
              "      <td>0.000000</td>\n",
              "    </tr>\n",
              "    <tr>\n",
              "      <th>244</th>\n",
              "      <td>(Income_Category_Medium, Housing_Location_3, H...</td>\n",
              "      <td>(Occupancy_Type)</td>\n",
              "      <td>0.038062</td>\n",
              "      <td>1.000000</td>\n",
              "      <td>0.038062</td>\n",
              "      <td>1.000000</td>\n",
              "      <td>1.000000</td>\n",
              "      <td>0.000000</td>\n",
              "      <td>inf</td>\n",
              "      <td>0.000000</td>\n",
              "    </tr>\n",
              "    <tr>\n",
              "      <th>245</th>\n",
              "      <td>(Occupancy_Type)</td>\n",
              "      <td>(Income_Category_Medium, Housing_Location_3, H...</td>\n",
              "      <td>1.000000</td>\n",
              "      <td>0.038062</td>\n",
              "      <td>0.038062</td>\n",
              "      <td>0.038062</td>\n",
              "      <td>1.000000</td>\n",
              "      <td>0.000000</td>\n",
              "      <td>1.000000</td>\n",
              "      <td>0.000000</td>\n",
              "    </tr>\n",
              "  </tbody>\n",
              "</table>\n",
              "<p>246 rows × 10 columns</p>\n",
              "</div>"
            ],
            "text/plain": [
              "                                           antecedents  \\\n",
              "0                                     (Housing_Type_1)   \n",
              "1                                     (Occupancy_Type)   \n",
              "2                                     (Occupancy_Type)   \n",
              "3                                     (Housing_Type_2)   \n",
              "4                                     (Housing_Type_3)   \n",
              "..                                                 ...   \n",
              "241                              (Income_Category_Low)   \n",
              "242                                   (Housing_Type_5)   \n",
              "243                                   (Occupancy_Type)   \n",
              "244  (Income_Category_Medium, Housing_Location_3, H...   \n",
              "245                                   (Occupancy_Type)   \n",
              "\n",
              "                                           consequents  antecedent support  \\\n",
              "0                                     (Occupancy_Type)            0.160875   \n",
              "1                                     (Housing_Type_1)            1.000000   \n",
              "2                                     (Housing_Type_2)            1.000000   \n",
              "3                                     (Occupancy_Type)            0.061500   \n",
              "4                                     (Occupancy_Type)            0.548312   \n",
              "..                                                 ...                 ...   \n",
              "241  (Housing_Location_3, Housing_Type_5, Occupancy...            0.494063   \n",
              "242  (Income_Category_Low, Housing_Location_3, Occu...            0.098750   \n",
              "243  (Income_Category_Low, Housing_Location_3, Hous...            1.000000   \n",
              "244                                   (Occupancy_Type)            0.038062   \n",
              "245  (Income_Category_Medium, Housing_Location_3, H...            1.000000   \n",
              "\n",
              "     consequent support   support  confidence      lift  leverage  conviction  \\\n",
              "0              1.000000  0.160875    1.000000  1.000000  0.000000         inf   \n",
              "1              0.160875  0.160875    0.160875  1.000000  0.000000    1.000000   \n",
              "2              0.061500  0.061500    0.061500  1.000000  0.000000    1.000000   \n",
              "3              1.000000  0.061500    1.000000  1.000000  0.000000         inf   \n",
              "4              1.000000  0.548312    1.000000  1.000000  0.000000         inf   \n",
              "..                  ...       ...         ...       ...       ...         ...   \n",
              "241            0.095812  0.054437    0.110183  1.149990  0.007100    1.016150   \n",
              "242            0.487250  0.054437    0.551266  1.131382  0.006322    1.142659   \n",
              "243            0.054437  0.054437    0.054437  1.000000  0.000000    1.000000   \n",
              "244            1.000000  0.038062    1.000000  1.000000  0.000000         inf   \n",
              "245            0.038062  0.038062    0.038062  1.000000  0.000000    1.000000   \n",
              "\n",
              "     zhangs_metric  \n",
              "0         0.000000  \n",
              "1         0.000000  \n",
              "2         0.000000  \n",
              "3         0.000000  \n",
              "4         0.000000  \n",
              "..             ...  \n",
              "241       0.257793  \n",
              "242       0.128849  \n",
              "243       0.000000  \n",
              "244       0.000000  \n",
              "245       0.000000  \n",
              "\n",
              "[246 rows x 10 columns]"
            ]
          },
          "execution_count": 46,
          "metadata": {},
          "output_type": "execute_result"
        }
      ],
      "source": [
        "#연관 규칙 도출 (지지도(support), 신뢰도(confidence), 향상도(lift) 확인)\n",
        "rules = association_rules(frequent_itemsets, metric=\"lift\", min_threshold=1)\n",
        "\n",
        "rules"
      ]
    }
  ],
  "metadata": {
    "colab": {
      "provenance": []
    },
    "kernelspec": {
      "display_name": "Python 3",
      "name": "python3"
    },
    "language_info": {
      "codemirror_mode": {
        "name": "ipython",
        "version": 3
      },
      "file_extension": ".py",
      "mimetype": "text/x-python",
      "name": "python",
      "nbconvert_exporter": "python",
      "pygments_lexer": "ipython3",
      "version": "3.11.7"
    }
  },
  "nbformat": 4,
  "nbformat_minor": 0
}
